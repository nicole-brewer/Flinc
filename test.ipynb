{
 "cells": [
  {
   "cell_type": "markdown",
   "id": "04577b5b-2e1b-4f17-aefa-0a7b86689d54",
   "metadata": {},
   "source": [
    "# Welcome to Building Complex Web Apps with Jupyter Widgets\n",
    "\n",
    "**Instructors:** Nicole Brewer, Matt Craig, Juan Cabanela, and Maarten Breddels\n",
    "\n",
    "**Spacetime Coordinates:** 09 July 2024 13:30–17:30 (US/Pacific), Tacoma Convention Center Room 318"
   ]
  },
  {
   "cell_type": "markdown",
   "id": "6c11e936-21be-4c25-a008-676023575451",
   "metadata": {},
   "source": [
    "## Prerequisite Knowledge\n",
    "\n",
    "To follow along with this tutorial, you will want familiar with [Jupyter widgets](https://ipywidgets.readthedocs.io/en/latest/) (aka `ipywidgets`).\n",
    "\n",
    "We will write and make use of some additional Python packages to automate the building of more complicated widgets, but familiarity with Jupyter widgets will be needed to exploit these more complicated widgets."
   ]
  },
  {
   "cell_type": "markdown",
   "id": "424ab3ed-79d5-47d0-966a-2c4d9a9d8518",
   "metadata": {},
   "source": [
    "## Don't Forget to Pull\n",
    "\n",
    "If you have already installed the tutorial materials, make sure you have the latest version of the tutorial materials by pulling the latest changes from the [GitHub repository](https://github.com/Jupyter4Science/scipy2024-jupyter-widgets-tutorial)."
   ]
  },
  {
   "cell_type": "code",
   "execution_count": null,
   "id": "0f251cc9-a4ae-4066-b225-e3df83c46a7d",
   "metadata": {},
   "outputs": [],
   "source": [
    "%%bash\n",
    "\n",
    "git pull"
   ]
  },
  {
   "cell_type": "markdown",
   "id": "d7380145-146b-4587-8520-b96e881c2a88",
   "metadata": {},
   "source": [
    "## Introductions\n",
    "\n",
    "- **Who are we?**\n",
    "- **Who are you?**\n",
    "    - Who here has a workflow in a Jupyter Notebook?\n",
    "    - What domains are you from?\n",
    "    - Do you consider yourself a researcher? Developer? Something else?\n",
    "- **What are you familiar with already?**\n",
    "    - Python\n",
    "    - Jupyter\n",
    "    - JupyterLab\n",
    "    - ipywidgets"
   ]
  },
  {
   "cell_type": "markdown",
   "id": "6fa9dc69-6aa2-4024-bd51-ca7aa935f59a",
   "metadata": {},
   "source": [
    "## Expectations\n",
    "\n",
    "- Please interrupt with questions at any time!\n",
    "- Use stickies to indicate when you are done with an exercise."
   ]
  },
  {
   "cell_type": "markdown",
   "id": "60357866-72c6-48d0-93e9-eb3059b18695",
   "metadata": {},
   "source": [
    "## What we are going to learn\n",
    "\n",
    "0. Installing environment\n",
    "1. **Review**: JupyterLab and ipywidgets\n",
    "    - Benefits of developing in Jupyter\n",
    "    - Benefits of JupyterLab\n",
    "    - ipywidgets\n",
    "2. **[nbdev](https://nbdev.fast.ai)**: Building a simple dashboard and exporting it to Python modules\n",
    "3. **[pydantic](https://docs.pydantic.dev/latest/) and [ipyautoui](https://pyautogui.readthedocs.io/en/latest/)**: Tools for validating inputs and automatically building settings UIs\n",
    "4. **[solara](https://solara.dev)**: Another option for building components or entire applications declaratively.\n",
    "5.  **Deployment**: Review of options for deploying a Jupyter notebook as a web app\n",
    "    - **[Binder](https://mybinder.org/)** - Turn a GitHub repository into a collection of interactive notebooks\n",
    "    - **[Voilà](https://voila.readthedocs.io/en/stable/)** - Turn Jupyter notebooks into standalone web apps using server-side rendering\n",
    "    - **[Voici](https://github.com/voila-dashboards/voici)** - Turn Jupyter notebooks into standalone web apps using client-side rendering\n",
    "    - **[GitHub Pages](https://pages.github.com/)** - Host a static website directly from a GitHub repository (can be used with Voici)"
   ]
  }
 ],
 "metadata": {
  "kernelspec": {
   "display_name": "python3",
   "language": "python",
   "name": "python3"
  },
  "language_info": {
   "name": "python",
   "version": "3.11.9"
  }
 },
 "nbformat": 4,
 "nbformat_minor": 5
}

