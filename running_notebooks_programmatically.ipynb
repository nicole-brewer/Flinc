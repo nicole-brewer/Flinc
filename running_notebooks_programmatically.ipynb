{
 "cells": [
  {
   "cell_type": "markdown",
   "id": "ab4753d4-0e3b-464e-b5c1-71fc015df141",
   "metadata": {},
   "source": [
    "# Attempting to Run Flinc Programmatically"
   ]
  },
  {
   "cell_type": "code",
   "execution_count": 1,
   "id": "2f251539-9045-4e9e-b80a-e32112b27a75",
   "metadata": {},
   "outputs": [],
   "source": [
    "import nbformat\n",
    "from nbconvert import NotebookExporter, HTMLExporter\n",
    "from nbconvert.preprocessors import ExecutePreprocessor\n",
    "import os\n",
    "import traceback"
   ]
  },
  {
   "cell_type": "code",
   "execution_count": 3,
   "id": "4d0dfab0-f467-4a4b-8aa1-f1a413148f36",
   "metadata": {},
   "outputs": [
    {
     "name": "stdout",
     "output_type": "stream",
     "text": [
      "Available kernels:\n",
      "  audit-kernel     /home/nbrewer6_asu_edu/.local/share/jupyter/kernels/audit-kernel\n",
      "  repeat-kernel    /home/nbrewer6_asu_edu/.local/share/jupyter/kernels/repeat-kernel\n",
      "  python3          /opt/conda/share/jupyter/kernels/python3\n",
      "  bash             /usr/local/share/jupyter/kernels/bash\n"
     ]
    }
   ],
   "source": [
    "%%bash\n",
    "# make sure the kernels are up. If not, run\n",
    "# ./install.sh\n",
    "jupyter kernelspec list"
   ]
  },
  {
   "cell_type": "markdown",
   "id": "e3974924-b409-4ae0-9ccd-496d7027cd1e",
   "metadata": {},
   "source": [
    "The `ExecutePreprocessor` is a class in the `nbconvert` library used to execute Jupyter notebooks. It runs the code cells in a notebook, allowing you to execute all the code within the notebook and capture the results.\n",
    "\n",
    "Here's a brief overview of its functionality:\n",
    "\n",
    "1. **Execution**: It executes all the code cells in the notebook in a specified kernel (e.g., Python, R) and captures outputs, errors, and other metadata.\n",
    "2. **Timeout**: It allows setting a timeout for each cell's execution to prevent long-running cells from hanging indefinitely.\n",
    "3. **Kernel Management**: It manages the kernel (e.g., Python3) in which the code is executed.\n",
    "\n",
    "After execution, the notebook contains updated outputs, which can be saved back to a file or used further in other processes."
   ]
  },
  {
   "cell_type": "code",
   "execution_count": 7,
   "id": "9efa8fe0-47aa-4ebe-bce4-6fe34700ea4d",
   "metadata": {},
   "outputs": [],
   "source": [
    "def run_notebook(notebook_path, kernel_name='python3'):\n",
    "    \n",
    "    # Open and read the notebook file specified by 'notebook_path'\n",
    "    with open(notebook_path) as f:\n",
    "        notebook = nbformat.read(f, as_version=4)\n",
    "\n",
    "    # Create an ExecutePreprocessor instance with a timeout of 600 seconds and the specified kernel\n",
    "    ep = ExecutePreprocessor(timeout=600, kernel_name=kernel_name)\n",
    "    try:\n",
    "        # Execute the notebook with the provided kernel and save the results\n",
    "        ep.preprocess(notebook, {'metadata': {'path': './'}})\n",
    "        print(\"Notebook executed successfully.\")\n",
    "    except Exception as e:\n",
    "        # Print the traceback if an error occurs during notebook execution\n",
    "        traceback.print_exc()\n",
    "        # Uncomment the following line to print the error message\n",
    "        # print(f\"Error executing notebook: {error_trace}\")\n",
    "\n",
    "    # Generate the output file path by appending the kernel name to the original file name\n",
    "    base, ext = os.path.splitext(notebook_path)\n",
    "    output_path = f\"{base}_{kernel_name}{ext}\"\n",
    "    \n",
    "    # Write the executed notebook to the output file\n",
    "    with open(output_path, 'w') as f:\n",
    "        nbformat.write(notebook, f)\n",
    "        print(f\"Saved to {output_path}\")\n"
   ]
  },
  {
   "cell_type": "markdown",
   "id": "df81337a-f642-498a-b9d3-87c0a1d4c9c4",
   "metadata": {},
   "source": [
    "### Test that run_notebook behaves as expected with default 'python3' kernel"
   ]
  },
  {
   "cell_type": "code",
   "execution_count": 8,
   "id": "b44e98d9-8edf-4dc5-a494-69727dce83ac",
   "metadata": {},
   "outputs": [
    {
     "name": "stdout",
     "output_type": "stream",
     "text": [
      "Notebook executed successfully.\n",
      "Saved to ../notebooks/Supplementary file 3 Degassing Jupyter Notebook_python3.ipynb\n"
     ]
    }
   ],
   "source": [
    "# Example usage\n",
    "run_notebook('../notebooks/Supplementary file 3 Degassing Jupyter Notebook.ipynb')"
   ]
  },
  {
   "cell_type": "markdown",
   "id": "d1697e80-64c7-439d-a0f5-3b15e6b8df8a",
   "metadata": {},
   "source": [
    "### Test that run_notebook works with Flinc kernel"
   ]
  },
  {
   "cell_type": "code",
   "execution_count": 9,
   "id": "1cd74d46-4c8e-4844-8383-3784ed1a4b85",
   "metadata": {},
   "outputs": [
    {
     "name": "stdout",
     "output_type": "stream",
     "text": [
      "Saved to ../notebooks/Supplementary file 3 Degassing Jupyter Notebook_audit-kernel.ipynb\n"
     ]
    },
    {
     "name": "stderr",
     "output_type": "stream",
     "text": [
      "Traceback (most recent call last):\n",
      "  File \"/tmp/ipykernel_453/1208215535.py\", line 8, in run_notebook\n",
      "    ep.preprocess(notebook, {'metadata': {'path': './'}})\n",
      "  File \"/opt/conda/lib/python3.10/site-packages/nbconvert/preprocessors/execute.py\", line 94, in preprocess\n",
      "    with self.setup_kernel():\n",
      "  File \"/opt/conda/lib/python3.10/contextlib.py\", line 135, in __enter__\n",
      "    return next(self.gen)\n",
      "  File \"/opt/conda/lib/python3.10/site-packages/nbclient/client.py\", line 598, in setup_kernel\n",
      "    self.start_new_kernel_client()\n",
      "  File \"/opt/conda/lib/python3.10/site-packages/jupyter_core/utils/__init__.py\", line 98, in wrapped\n",
      "    return loop.run_until_complete(inner)\n",
      "  File \"/opt/conda/lib/python3.10/site-packages/nest_asyncio.py\", line 90, in run_until_complete\n",
      "    return f.result()\n",
      "  File \"/opt/conda/lib/python3.10/asyncio/futures.py\", line 201, in result\n",
      "    raise self._exception.with_traceback(self._exception_tb)\n",
      "  File \"/opt/conda/lib/python3.10/asyncio/tasks.py\", line 232, in __step\n",
      "    result = coro.send(None)\n",
      "RuntimeError: cannot reuse already awaited coroutine\n"
     ]
    }
   ],
   "source": [
    "run_notebook('../notebooks/Supplementary file 3 Degassing Jupyter Notebook.ipynb', kernel_name='audit-kernel')"
   ]
  }
 ],
 "metadata": {
  "kernelspec": {
   "display_name": "Python 3 (ipykernel)",
   "language": "python",
   "name": "python3"
  },
  "language_info": {
   "codemirror_mode": {
    "name": "ipython",
    "version": 3
   },
   "file_extension": ".py",
   "mimetype": "text/x-python",
   "name": "python",
   "nbconvert_exporter": "python",
   "pygments_lexer": "ipython3",
   "version": "3.12.3"
  }
 },
 "nbformat": 4,
 "nbformat_minor": 5
}
